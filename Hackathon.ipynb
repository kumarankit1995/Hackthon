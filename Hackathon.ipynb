{
 "cells": [
  {
   "cell_type": "code",
   "execution_count": 69,
   "metadata": {},
   "outputs": [],
   "source": [
    "import pandas as pd\n",
    "import numpy as np\n",
    "import matplotlib.pyplot as plt \n",
    "%matplotlib inline\n",
    "\n",
    "import seaborn as sns\n",
    "\n",
    "url ='https://raw.githubusercontent.com/Laxminarayen/Inceptz-Batch13-Analytics_and_Python/master/Hackathon/company.csv'"
   ]
  },
  {
   "cell_type": "code",
   "execution_count": 70,
   "metadata": {},
   "outputs": [],
   "source": [
    "comp_df = pd.DataFrame(pd.read_csv(url))"
   ]
  },
  {
   "cell_type": "code",
   "execution_count": 71,
   "metadata": {},
   "outputs": [
    {
     "name": "stdout",
     "output_type": "stream",
     "text": [
      "    Company   Age  Salary       Place Country  Gender\n",
      "0       TCS  20.0     NaN     Chennai   India       0\n",
      "1   Infosys  30.0     NaN      Mumbai   India       0\n",
      "2       TCS  35.0  2300.0    Calcutta   India       0\n",
      "3   Infosys  40.0  3000.0       Delhi   India       0\n",
      "4       TCS  23.0  4000.0      Mumbai   India       0\n",
      "5   Infosys   NaN  5000.0    Calcutta   India       0\n",
      "6       TCS   NaN  6000.0     Chennai   India       1\n",
      "7   Infosys  23.0  7000.0      Mumbai   India       1\n",
      "8       TCS  34.0  8000.0    Calcutta   India       1\n",
      "9       CTS  45.0  9000.0       Delhi   India       0\n",
      "10      CTS  23.0     NaN      Mumbai   India       0\n",
      "11      CTS  34.0  1089.0    Calcutta   India       0\n",
      "12      CTS  45.0     NaN     Chennai   India       0\n",
      "13      CTS  18.0  1234.0      Mumbai   India       0\n",
      "14  Infosys  40.0  3000.0    Calcutta   India       0\n",
      "15      TCS  23.0  3000.0       Delhi   India       0\n",
      "16  Infosys  23.0  3030.0  Podicherry   India       0\n",
      "17      TCS  34.0  5000.0      Cochin   India       0\n",
      "18      TCS  22.0     NaN     Chennai   India       0\n",
      "19  Infosys  32.0     NaN      Mumbai   India       0\n"
     ]
    }
   ],
   "source": [
    "print(comp_df.head(20))"
   ]
  },
  {
   "cell_type": "code",
   "execution_count": 28,
   "metadata": {},
   "outputs": [],
   "source": [
    "#print(comp_df.info())"
   ]
  },
  {
   "cell_type": "code",
   "execution_count": 72,
   "metadata": {},
   "outputs": [],
   "source": [
    "comp_df = comp_df.dropna(subset = ['Company'])"
   ]
  },
  {
   "cell_type": "code",
   "execution_count": 73,
   "metadata": {},
   "outputs": [],
   "source": [
    "comp_df.loc[comp_df['Company']=='Congnizant','Company']='CTS'"
   ]
  },
  {
   "cell_type": "code",
   "execution_count": 74,
   "metadata": {},
   "outputs": [],
   "source": [
    "comp_df.loc[comp_df['Company']=='Infosys Pvt Lmt','Company']='Infosys'"
   ]
  },
  {
   "cell_type": "code",
   "execution_count": 75,
   "metadata": {},
   "outputs": [],
   "source": [
    "comp_df.loc[comp_df['Company']=='Tata Consultancy Services','Company']='TCS'"
   ]
  },
  {
   "cell_type": "code",
   "execution_count": 79,
   "metadata": {},
   "outputs": [
    {
     "name": "stderr",
     "output_type": "stream",
     "text": [
      "c:\\users\\ankit kumar\\appdata\\local\\programs\\python\\python36\\lib\\site-packages\\ipykernel_launcher.py:2: SettingWithCopyWarning: \n",
      "A value is trying to be set on a copy of a slice from a DataFrame.\n",
      "Try using .loc[row_indexer,col_indexer] = value instead\n",
      "\n",
      "See the caveats in the documentation: http://pandas.pydata.org/pandas-docs/stable/user_guide/indexing.html#returning-a-view-versus-a-copy\n",
      "  \n",
      "c:\\users\\ankit kumar\\appdata\\local\\programs\\python\\python36\\lib\\site-packages\\ipykernel_launcher.py:3: SettingWithCopyWarning: \n",
      "A value is trying to be set on a copy of a slice from a DataFrame.\n",
      "Try using .loc[row_indexer,col_indexer] = value instead\n",
      "\n",
      "See the caveats in the documentation: http://pandas.pydata.org/pandas-docs/stable/user_guide/indexing.html#returning-a-view-versus-a-copy\n",
      "  This is separate from the ipykernel package so we can avoid doing imports until\n",
      "c:\\users\\ankit kumar\\appdata\\local\\programs\\python\\python36\\lib\\site-packages\\ipykernel_launcher.py:5: SettingWithCopyWarning: \n",
      "A value is trying to be set on a copy of a slice from a DataFrame.\n",
      "Try using .loc[row_indexer,col_indexer] = value instead\n",
      "\n",
      "See the caveats in the documentation: http://pandas.pydata.org/pandas-docs/stable/user_guide/indexing.html#returning-a-view-versus-a-copy\n",
      "  \"\"\"\n",
      "c:\\users\\ankit kumar\\appdata\\local\\programs\\python\\python36\\lib\\site-packages\\ipykernel_launcher.py:6: SettingWithCopyWarning: \n",
      "A value is trying to be set on a copy of a slice from a DataFrame.\n",
      "Try using .loc[row_indexer,col_indexer] = value instead\n",
      "\n",
      "See the caveats in the documentation: http://pandas.pydata.org/pandas-docs/stable/user_guide/indexing.html#returning-a-view-versus-a-copy\n",
      "  \n",
      "c:\\users\\ankit kumar\\appdata\\local\\programs\\python\\python36\\lib\\site-packages\\ipykernel_launcher.py:8: SettingWithCopyWarning: \n",
      "A value is trying to be set on a copy of a slice from a DataFrame.\n",
      "Try using .loc[row_indexer,col_indexer] = value instead\n",
      "\n",
      "See the caveats in the documentation: http://pandas.pydata.org/pandas-docs/stable/user_guide/indexing.html#returning-a-view-versus-a-copy\n",
      "  \n",
      "c:\\users\\ankit kumar\\appdata\\local\\programs\\python\\python36\\lib\\site-packages\\ipykernel_launcher.py:9: SettingWithCopyWarning: \n",
      "A value is trying to be set on a copy of a slice from a DataFrame.\n",
      "Try using .loc[row_indexer,col_indexer] = value instead\n",
      "\n",
      "See the caveats in the documentation: http://pandas.pydata.org/pandas-docs/stable/user_guide/indexing.html#returning-a-view-versus-a-copy\n",
      "  if __name__ == '__main__':\n"
     ]
    }
   ],
   "source": [
    "df_cts = comp_df[comp_df.Company=='CTS']\n",
    "df_cts['Salary'] = df_cts['Salary'].fillna(df_cts['Salary'].mean()).round(2)\n",
    "df_cts['Age'] = df_cts['Age'].fillna(df_cts['Age'].mean())\n",
    "df_tcs =comp_df[comp_df.Company=='TCS']\n",
    "df_tcs['Salary']= df_tcs['Salary'].fillna(df_tcs['Salary'].mean()).round(2)\n",
    "df_tcs['Age'] = df_tcs['Age'].fillna(df_tcs['Age'].mean())\n",
    "df_infy = comp_df[comp_df['Company']=='Infosys']\n",
    "df_infy['Salary'] = df_infy['Salary'].fillna(df_infy['Salary'].mean()).round(2)\n",
    "df_infy['Age'] = df_infy['Age'].fillna(df_infy['Age'].mean())"
   ]
  },
  {
   "cell_type": "code",
   "execution_count": 91,
   "metadata": {},
   "outputs": [],
   "source": [
    "comp_df = pd.concat([df_cts,df_infy,df_tcs]).reset_index()\n",
    "comp_df.sort_values('index',inplace=True)\n",
    "comp_df.set_index('index',inplace=True)"
   ]
  },
  {
   "cell_type": "code",
   "execution_count": null,
   "metadata": {},
   "outputs": [],
   "source": [
    "min_in = np.mean(comp_df['Age'])\n",
    "comp_df['Age'] = np.where(comp_df['Age'] == 0, min_in,comp_df['Age'])"
   ]
  },
  {
   "cell_type": "code",
   "execution_count": 202,
   "metadata": {},
   "outputs": [],
   "source": [
    "comp_df['Age'] = comp_df['Age'].astype(int)"
   ]
  },
  {
   "cell_type": "code",
   "execution_count": 114,
   "metadata": {},
   "outputs": [],
   "source": [
    "comp_df['Place'] = comp_df['Place'].fillna('Others')"
   ]
  },
  {
   "cell_type": "code",
   "execution_count": 106,
   "metadata": {},
   "outputs": [],
   "source": [
    "def age_group(x):\n",
    "    if x < 20:\n",
    "        return '< 20'\n",
    "    elif (x >= 20) & (x <= 30):\n",
    "        return '20-30'\n",
    "    elif (x >= 31) & (x <= 40):\n",
    "        return '31-40'\n",
    "    else:\n",
    "        return '> 40'\n",
    "        "
   ]
  },
  {
   "cell_type": "code",
   "execution_count": 107,
   "metadata": {},
   "outputs": [],
   "source": [
    "def gender_group(x):\n",
    "    if x == 0:\n",
    "        return 'Female'\n",
    "    else:\n",
    "        return 'Male'"
   ]
  },
  {
   "cell_type": "code",
   "execution_count": 108,
   "metadata": {},
   "outputs": [],
   "source": [
    "def salary_group(x):\n",
    "    if (x < 3000):\n",
    "        return '< 3000'\n",
    "    elif (x >= 3000) & (x <= 6000):\n",
    "        return '3000-6000'\n",
    "    elif (x >= 6001) & (x <= 9000):\n",
    "        return '6001-9000'\n",
    "    else:\n",
    "        return 'x > 9000'\n",
    "            "
   ]
  },
  {
   "cell_type": "code",
   "execution_count": 109,
   "metadata": {},
   "outputs": [],
   "source": [
    "comp_df['Age_G'] = comp_df['Age'].apply(age_group)"
   ]
  },
  {
   "cell_type": "code",
   "execution_count": 110,
   "metadata": {},
   "outputs": [],
   "source": [
    "comp_df['Gender_G'] = comp_df['Gender'].apply(gender_group)"
   ]
  },
  {
   "cell_type": "code",
   "execution_count": 111,
   "metadata": {},
   "outputs": [],
   "source": [
    "comp_df['Salary_G'] = comp_df['Salary'].apply(salary_group)"
   ]
  },
  {
   "cell_type": "code",
   "execution_count": 115,
   "metadata": {},
   "outputs": [
    {
     "name": "stdout",
     "output_type": "stream",
     "text": [
      "       Company   Age   Salary     Place Country  Gender Age_Group Age Group  \\\n",
      "index                                                                         \n",
      "0          TCS  20.0  5609.71   Chennai   India       0     20-30     20-30   \n",
      "1      Infosys  30.0  5331.35    Mumbai   India       0     20-30     20-30   \n",
      "2          TCS  35.0  2300.00  Calcutta   India       0  31 to 40  31 to 40   \n",
      "3      Infosys  40.0  3000.00     Delhi   India       0  31 to 40  31 to 40   \n",
      "4          TCS  23.0  4000.00    Mumbai   India       0     20-30     20-30   \n",
      "\n",
      "       Age_G Gender_G   Salary_G  \n",
      "index                             \n",
      "0      20-30   Female  3000-6000  \n",
      "1      20-30   Female  3000-6000  \n",
      "2      31-40   Female     < 3000  \n",
      "3      31-40   Female  3000-6000  \n",
      "4      20-30   Female  3000-6000  \n"
     ]
    }
   ],
   "source": [
    "print(comp_df.head())"
   ]
  },
  {
   "cell_type": "code",
   "execution_count": 116,
   "metadata": {},
   "outputs": [
    {
     "name": "stdout",
     "output_type": "stream",
     "text": [
      "<class 'pandas.core.frame.DataFrame'>\n",
      "Int64Index: 140 entries, 0 to 147\n",
      "Data columns (total 11 columns):\n",
      "Company      140 non-null object\n",
      "Age          140 non-null float64\n",
      "Salary       140 non-null float64\n",
      "Place        140 non-null object\n",
      "Country      140 non-null object\n",
      "Gender       140 non-null int64\n",
      "Age_Group    140 non-null object\n",
      "Age Group    140 non-null object\n",
      "Age_G        140 non-null object\n",
      "Gender_G     140 non-null object\n",
      "Salary_G     140 non-null object\n",
      "dtypes: float64(2), int64(1), object(8)\n",
      "memory usage: 18.1+ KB\n",
      "None\n"
     ]
    }
   ],
   "source": [
    "print(comp_df.info())"
   ]
  },
  {
   "cell_type": "code",
   "execution_count": 47,
   "metadata": {},
   "outputs": [],
   "source": [
    "#print(comp_df.Company.unique())"
   ]
  },
  {
   "cell_type": "code",
   "execution_count": 139,
   "metadata": {},
   "outputs": [],
   "source": [
    "emp_count = comp_df.Company.value_counts().reset_index()"
   ]
  },
  {
   "cell_type": "code",
   "execution_count": 142,
   "metadata": {},
   "outputs": [],
   "source": [
    "emp_count.columns=(['Company','Count'])\n",
    "#print(emp_count)"
   ]
  },
  {
   "cell_type": "code",
   "execution_count": 141,
   "metadata": {},
   "outputs": [
    {
     "data": {
      "text/plain": [
       "Text(0.5, 1.0, 'Count Of Emp in Each Company')"
      ]
     },
     "execution_count": 141,
     "metadata": {},
     "output_type": "execute_result"
    },
    {
     "data": {
      "image/png": "[encoded data removed]",
      "text/plain": [
       "<Figure size 432x288 with 1 Axes>"
      ]
     },
     "metadata": {
      "needs_background": "light"
     },
     "output_type": "display_data"
    }
   ],
   "source": [
    "sns.barplot(x=emp_count['Company'],y=emp_count['Count'])\n",
    "plt.ylabel('Count Of Emp')\n",
    "plt.xlabel('Company Name')\n",
    "plt.title('Count Of Emp in Each Company')"
   ]
  },
  {
   "cell_type": "code",
   "execution_count": 161,
   "metadata": {},
   "outputs": [],
   "source": [
    "comp_df['Count'] =1"
   ]
  },
  {
   "cell_type": "code",
   "execution_count": 164,
   "metadata": {},
   "outputs": [],
   "source": [
    "cempcnt = comp_df.groupby(['Place']).count()['Count'].reset_index()"
   ]
  },
  {
   "cell_type": "code",
   "execution_count": 163,
   "metadata": {},
   "outputs": [
    {
     "data": {
      "text/plain": [
       "Text(0.5, 1.0, 'Emp working in each city')"
      ]
     },
     "execution_count": 163,
     "metadata": {},
     "output_type": "execute_result"
    },
    {
     "data": {
      "image/png": "[encoded data removed]",
      "text/plain": [
       "<Figure size 936x432 with 1 Axes>"
      ]
     },
     "metadata": {
      "needs_background": "light"
     },
     "output_type": "display_data"
    }
   ],
   "source": [
    "plt.figure(figsize = (13,6))\n",
    "sns.barplot(x=cempcnt['Place'],y=cempcnt['Count'])\n",
    "plt.title('Emp working in each city')"
   ]
  },
  {
   "cell_type": "markdown",
   "metadata": {},
   "source": [
    "## Average Salary of Employee working in different Organization"
   ]
  },
  {
   "cell_type": "code",
   "execution_count": 172,
   "metadata": {},
   "outputs": [
    {
     "name": "stdout",
     "output_type": "stream",
     "text": [
      "   Company   Salary\n",
      "0      CTS  4582.93\n",
      "1  Infosys  5331.35\n",
      "2      TCS  5609.71\n"
     ]
    }
   ],
   "source": [
    "temp1 = comp_df.groupby(['Company']).mean().reset_index()\n",
    "print(temp1[['Company','Salary']].round(2))\n"
   ]
  },
  {
   "cell_type": "markdown",
   "metadata": {},
   "source": [
    "## Count of Male and Female Employee working in each organization"
   ]
  },
  {
   "cell_type": "code",
   "execution_count": 199,
   "metadata": {},
   "outputs": [],
   "source": [
    "temp2 = comp_df.groupby(['Gender_G','Company']).count()['Count'].reset_index()"
   ]
  },
  {
   "cell_type": "code",
   "execution_count": 200,
   "metadata": {},
   "outputs": [
    {
     "data": {
      "text/html": [
       "<div>\n",
       "<style scoped>\n",
       "    .dataframe tbody tr th:only-of-type {\n",
       "        vertical-align: middle;\n",
       "    }\n",
       "\n",
       "    .dataframe tbody tr th {\n",
       "        vertical-align: top;\n",
       "    }\n",
       "\n",
       "    .dataframe thead th {\n",
       "        text-align: right;\n",
       "    }\n",
       "</style>\n",
       "<table border=\"1\" class=\"dataframe\">\n",
       "  <thead>\n",
       "    <tr style=\"text-align: right;\">\n",
       "      <th></th>\n",
       "      <th></th>\n",
       "      <th>Count</th>\n",
       "    </tr>\n",
       "    <tr>\n",
       "      <th>Gender_G</th>\n",
       "      <th>Company</th>\n",
       "      <th></th>\n",
       "    </tr>\n",
       "  </thead>\n",
       "  <tbody>\n",
       "    <tr>\n",
       "      <td rowspan=\"3\" valign=\"top\">Female</td>\n",
       "      <td>CTS</td>\n",
       "      <td>30</td>\n",
       "    </tr>\n",
       "    <tr>\n",
       "      <td>Infosys</td>\n",
       "      <td>40</td>\n",
       "    </tr>\n",
       "    <tr>\n",
       "      <td>TCS</td>\n",
       "      <td>38</td>\n",
       "    </tr>\n",
       "    <tr>\n",
       "      <td rowspan=\"3\" valign=\"top\">Male</td>\n",
       "      <td>CTS</td>\n",
       "      <td>8</td>\n",
       "    </tr>\n",
       "    <tr>\n",
       "      <td>Infosys</td>\n",
       "      <td>7</td>\n",
       "    </tr>\n",
       "    <tr>\n",
       "      <td>TCS</td>\n",
       "      <td>17</td>\n",
       "    </tr>\n",
       "  </tbody>\n",
       "</table>\n",
       "</div>"
      ],
      "text/plain": [
       "                  Count\n",
       "Gender_G Company       \n",
       "Female   CTS         30\n",
       "         Infosys     40\n",
       "         TCS         38\n",
       "Male     CTS          8\n",
       "         Infosys      7\n",
       "         TCS         17"
      ]
     },
     "execution_count": 200,
     "metadata": {},
     "output_type": "execute_result"
    }
   ],
   "source": [
    "temp2.pivot_table(values='Count',index=['Gender_G','Company'])"
   ]
  },
  {
   "cell_type": "markdown",
   "metadata": {},
   "source": [
    "## Average Age and Salary bases on Gender"
   ]
  },
  {
   "cell_type": "code",
   "execution_count": 212,
   "metadata": {},
   "outputs": [
    {
     "data": {
      "text/html": [
       "<div>\n",
       "<style scoped>\n",
       "    .dataframe tbody tr th:only-of-type {\n",
       "        vertical-align: middle;\n",
       "    }\n",
       "\n",
       "    .dataframe tbody tr th {\n",
       "        vertical-align: top;\n",
       "    }\n",
       "\n",
       "    .dataframe thead th {\n",
       "        text-align: right;\n",
       "    }\n",
       "</style>\n",
       "<table border=\"1\" class=\"dataframe\">\n",
       "  <thead>\n",
       "    <tr style=\"text-align: right;\">\n",
       "      <th></th>\n",
       "      <th>Age</th>\n",
       "      <th>Salary</th>\n",
       "    </tr>\n",
       "    <tr>\n",
       "      <th>Gender_G</th>\n",
       "      <th></th>\n",
       "      <th></th>\n",
       "    </tr>\n",
       "  </thead>\n",
       "  <tbody>\n",
       "    <tr>\n",
       "      <td>Female</td>\n",
       "      <td>30.28</td>\n",
       "      <td>4396.37</td>\n",
       "    </tr>\n",
       "    <tr>\n",
       "      <td>Male</td>\n",
       "      <td>31.53</td>\n",
       "      <td>8076.59</td>\n",
       "    </tr>\n",
       "  </tbody>\n",
       "</table>\n",
       "</div>"
      ],
      "text/plain": [
       "            Age   Salary\n",
       "Gender_G                \n",
       "Female    30.28  4396.37\n",
       "Male      31.53  8076.59"
      ]
     },
     "execution_count": 212,
     "metadata": {},
     "output_type": "execute_result"
    }
   ],
   "source": [
    "temp4 = comp_df.groupby('Gender_G').mean().reset_index()\n",
    "temp4.pivot_table(index='Gender_G',values=['Age','Salary']).round(2)"
   ]
  },
  {
   "cell_type": "code",
   "execution_count": null,
   "metadata": {},
   "outputs": [],
   "source": []
  },
  {
   "cell_type": "code",
   "execution_count": null,
   "metadata": {},
   "outputs": [],
   "source": []
  },
  {
   "cell_type": "code",
   "execution_count": null,
   "metadata": {},
   "outputs": [],
   "source": []
  },
  {
   "cell_type": "code",
   "execution_count": null,
   "metadata": {},
   "outputs": [],
   "source": []
  },
  {
   "cell_type": "code",
   "execution_count": null,
   "metadata": {},
   "outputs": [],
   "source": []
  },
  {
   "cell_type": "code",
   "execution_count": null,
   "metadata": {},
   "outputs": [],
   "source": []
  },
  {
   "cell_type": "code",
   "execution_count": null,
   "metadata": {},
   "outputs": [],
   "source": []
  },
  {
   "cell_type": "code",
   "execution_count": null,
   "metadata": {},
   "outputs": [],
   "source": []
  }
 ],
 "metadata": {
  "kernelspec": {
   "display_name": "Python 3",
   "language": "python",
   "name": "python3"
  },
  "language_info": {
   "codemirror_mode": {
    "name": "ipython",
    "version": 3
   },
   "file_extension": ".py",
   "mimetype": "text/x-python",
   "name": "python",
   "nbconvert_exporter": "python",
   "pygments_lexer": "ipython3",
   "version": "3.6.8"
  }
 },
 "nbformat": 4,
 "nbformat_minor": 4
}
