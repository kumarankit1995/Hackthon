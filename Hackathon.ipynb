{
 "cells": [
  {
   "cell_type": "code",
   "execution_count": 197,
   "metadata": {},
   "outputs": [],
   "source": [
    "import pandas as pd\n",
    "import numpy as np\n",
    "import matplotlib.pyplot as plt \n",
    "%matplotlib inline\n",
    "\n",
    "import seaborn as sns\n",
    "\n",
    "url ='https://raw.githubusercontent.com/Laxminarayen/Inceptz-Batch13-Analytics_and_Python/master/Hackathon/company.csv'"
   ]
  },
  {
   "cell_type": "code",
   "execution_count": 198,
   "metadata": {},
   "outputs": [],
   "source": [
    "comp_df = pd.DataFrame(pd.read_csv(url))"
   ]
  },
  {
   "cell_type": "code",
   "execution_count": 199,
   "metadata": {},
   "outputs": [
    {
     "name": "stdout",
     "output_type": "stream",
     "text": [
      "    Company   Age  Salary       Place Country  Gender\n",
      "0       TCS  20.0     NaN     Chennai   India       0\n",
      "1   Infosys  30.0     NaN      Mumbai   India       0\n",
      "2       TCS  35.0  2300.0    Calcutta   India       0\n",
      "3   Infosys  40.0  3000.0       Delhi   India       0\n",
      "4       TCS  23.0  4000.0      Mumbai   India       0\n",
      "5   Infosys   NaN  5000.0    Calcutta   India       0\n",
      "6       TCS   NaN  6000.0     Chennai   India       1\n",
      "7   Infosys  23.0  7000.0      Mumbai   India       1\n",
      "8       TCS  34.0  8000.0    Calcutta   India       1\n",
      "9       CTS  45.0  9000.0       Delhi   India       0\n",
      "10      CTS  23.0     NaN      Mumbai   India       0\n",
      "11      CTS  34.0  1089.0    Calcutta   India       0\n",
      "12      CTS  45.0     NaN     Chennai   India       0\n",
      "13      CTS  18.0  1234.0      Mumbai   India       0\n",
      "14  Infosys  40.0  3000.0    Calcutta   India       0\n",
      "15      TCS  23.0  3000.0       Delhi   India       0\n",
      "16  Infosys  23.0  3030.0  Podicherry   India       0\n",
      "17      TCS  34.0  5000.0      Cochin   India       0\n",
      "18      TCS  22.0     NaN     Chennai   India       0\n",
      "19  Infosys  32.0     NaN      Mumbai   India       0\n"
     ]
    }
   ],
   "source": [
    "print(comp_df.head(20))"
   ]
  },
  {
   "cell_type": "code",
   "execution_count": 28,
   "metadata": {},
   "outputs": [],
   "source": [
    "#print(comp_df.info())"
   ]
  },
  {
   "cell_type": "code",
   "execution_count": 200,
   "metadata": {},
   "outputs": [],
   "source": [
    "comp_df = comp_df.dropna(subset = ['Company'])"
   ]
  },
  {
   "cell_type": "code",
   "execution_count": 201,
   "metadata": {},
   "outputs": [],
   "source": [
    "comp_df['Salary'] = comp_df['Salary'].fillna(comp_df['Salary'].mean())"
   ]
  },
  {
   "cell_type": "code",
   "execution_count": 202,
   "metadata": {},
   "outputs": [],
   "source": [
    "comp_df['Age'] = comp_df['Age'].fillna(comp_df['Age'].mean())"
   ]
  },
  {
   "cell_type": "code",
   "execution_count": 226,
   "metadata": {},
   "outputs": [],
   "source": [
    "comp_df['Age'] = comp_df['Age'].astype(int)"
   ]
  },
  {
   "cell_type": "code",
   "execution_count": 204,
   "metadata": {},
   "outputs": [],
   "source": [
    "comp_df['Salary'] = comp_df['Salary'].round(2)"
   ]
  },
  {
   "cell_type": "code",
   "execution_count": 205,
   "metadata": {},
   "outputs": [],
   "source": [
    "comp_df['Place'] = comp_df['Place'].fillna('Others')"
   ]
  },
  {
   "cell_type": "code",
   "execution_count": 206,
   "metadata": {},
   "outputs": [],
   "source": [
    "min_in = np.mean(comp_df['Age'])\n",
    "comp_df['Age'] = np.where(comp_df['Age'] == 0, min_in,comp_df['Age'])"
   ]
  },
  {
   "cell_type": "code",
   "execution_count": 207,
   "metadata": {},
   "outputs": [
    {
     "name": "stdout",
     "output_type": "stream",
     "text": [
      "<class 'pandas.core.frame.DataFrame'>\n",
      "Int64Index: 140 entries, 0 to 147\n",
      "Data columns (total 6 columns):\n",
      "Company    140 non-null object\n",
      "Age        140 non-null float64\n",
      "Salary     140 non-null float64\n",
      "Place      140 non-null object\n",
      "Country    140 non-null object\n",
      "Gender     140 non-null int64\n",
      "dtypes: float64(2), int64(1), object(3)\n",
      "memory usage: 7.7+ KB\n",
      "None\n"
     ]
    }
   ],
   "source": [
    "print(comp_df.info())"
   ]
  },
  {
   "cell_type": "code",
   "execution_count": 47,
   "metadata": {},
   "outputs": [],
   "source": [
    "#print(comp_df.Company.unique())"
   ]
  },
  {
   "cell_type": "code",
   "execution_count": 208,
   "metadata": {},
   "outputs": [],
   "source": [
    "comp_df.loc[comp_df['Company']=='Congnizant','Company']='CTS'"
   ]
  },
  {
   "cell_type": "code",
   "execution_count": 209,
   "metadata": {},
   "outputs": [],
   "source": [
    "comp_df.loc[comp_df['Company']=='Infosys Pvt Lmt','Company']='Infosys'"
   ]
  },
  {
   "cell_type": "code",
   "execution_count": 210,
   "metadata": {},
   "outputs": [],
   "source": [
    "comp_df.loc[comp_df['Company']=='Tata Consultancy Services','Company']='TCS'"
   ]
  },
  {
   "cell_type": "code",
   "execution_count": 211,
   "metadata": {},
   "outputs": [],
   "source": [
    "emp_count = comp_df.Company.value_counts()\n",
    "#print(emp_count)"
   ]
  },
  {
   "cell_type": "code",
   "execution_count": 212,
   "metadata": {},
   "outputs": [],
   "source": [
    "emp_df = pd.DataFrame(emp_count)"
   ]
  },
  {
   "cell_type": "code",
   "execution_count": 136,
   "metadata": {},
   "outputs": [],
   "source": [
    "#print(emp_df)"
   ]
  },
  {
   "cell_type": "code",
   "execution_count": 213,
   "metadata": {},
   "outputs": [
    {
     "data": {
      "text/plain": [
       "Text(0.5, 1.0, 'Count Of Emp in Each Company')"
      ]
     },
     "execution_count": 213,
     "metadata": {},
     "output_type": "execute_result"
    },
    {
     "data": {
      "image/png": "[encoded data removed]",
      "text/plain": [
       "<Figure size 432x288 with 1 Axes>"
      ]
     },
     "metadata": {
      "needs_background": "light"
     },
     "output_type": "display_data"
    }
   ],
   "source": [
    "sns.barplot(x=emp_df.index,y=emp_df['Company'])\n",
    "plt.ylabel('Count Of Emp')\n",
    "plt.xlabel('Company Name')\n",
    "plt.title('Count Of Emp in Each Company')"
   ]
  },
  {
   "cell_type": "code",
   "execution_count": 214,
   "metadata": {},
   "outputs": [],
   "source": [
    "comp_df['count'] =1"
   ]
  },
  {
   "cell_type": "code",
   "execution_count": 215,
   "metadata": {},
   "outputs": [],
   "source": [
    "cempcnt = comp_df.groupby(['Place']).count()['count']"
   ]
  },
  {
   "cell_type": "code",
   "execution_count": 216,
   "metadata": {},
   "outputs": [],
   "source": [
    "cempcnt_df = pd.DataFrame(cempcnt)\n",
    "#print(cempcnt_df)"
   ]
  },
  {
   "cell_type": "code",
   "execution_count": 217,
   "metadata": {},
   "outputs": [
    {
     "data": {
      "text/plain": [
       "Text(0.5, 1.0, 'Emp working in each city')"
      ]
     },
     "execution_count": 217,
     "metadata": {},
     "output_type": "execute_result"
    },
    {
     "data": {
      "image/png": "[encoded data removed]",
      "text/plain": [
       "<Figure size 936x432 with 1 Axes>"
      ]
     },
     "metadata": {
      "needs_background": "light"
     },
     "output_type": "display_data"
    }
   ],
   "source": [
    "plt.figure(figsize = (13,6))\n",
    "sns.barplot(x=cempcnt_df.index,y=cempcnt_df['count'])\n",
    "plt.title('Emp working in each city')"
   ]
  },
  {
   "cell_type": "markdown",
   "metadata": {},
   "source": [
    "## Average Salary of Employee working in different Organization"
   ]
  },
  {
   "cell_type": "code",
   "execution_count": 251,
   "metadata": {},
   "outputs": [
    {
     "name": "stdout",
     "output_type": "stream",
     "text": [
      "              Salary\n",
      "Company             \n",
      "CTS      4783.598947\n",
      "Infosys  5326.651915\n",
      "TCS      5573.326545\n"
     ]
    }
   ],
   "source": [
    "temp1 = comp_df.groupby(['Company']).mean()\n",
    "print(temp1.iloc[:,1:2])"
   ]
  },
  {
   "cell_type": "code",
   "execution_count": 268,
   "metadata": {},
   "outputs": [],
   "source": [
    "temp2 = comp_df.groupby(['Gender','Company']).count()['count']\n",
    "#print(temp2)"
   ]
  },
  {
   "cell_type": "code",
   "execution_count": 265,
   "metadata": {},
   "outputs": [
    {
     "name": "stdout",
     "output_type": "stream",
     "text": [
      "Gender  Company\n",
      "0       CTS        30\n",
      "        Infosys    40\n",
      "        TCS        38\n",
      "1       CTS         8\n",
      "        Infosys     7\n",
      "        TCS        17\n",
      "Name: count, dtype: int64\n"
     ]
    }
   ],
   "source": [
    "temp2_df = pd.DataFrame(temp2)\n",
    "print(temp2)"
   ]
  },
  {
   "cell_type": "code",
   "execution_count": 267,
   "metadata": {},
   "outputs": [
    {
     "data": {
      "text/plain": [
       "<matplotlib.axes._subplots.AxesSubplot at 0x28cce562128>"
      ]
     },
     "execution_count": 267,
     "metadata": {},
     "output_type": "execute_result"
    },
    {
     "data": {
      "image/png": "[encoded data removed]",
      "text/plain": [
       "<Figure size 432x288 with 1 Axes>"
      ]
     },
     "metadata": {
      "needs_background": "light"
     },
     "output_type": "display_data"
    }
   ],
   "source": [
    "sns.barplot(x=temp2_df.index,y=temp2_df['count'])"
   ]
  },
  {
   "cell_type": "code",
   "execution_count": null,
   "metadata": {},
   "outputs": [],
   "source": []
  }
 ],
 "metadata": {
  "kernelspec": {
   "display_name": "Python 3",
   "language": "python",
   "name": "python3"
  },
  "language_info": {
   "codemirror_mode": {
    "name": "ipython",
    "version": 3
   },
   "file_extension": ".py",
   "mimetype": "text/x-python",
   "name": "python",
   "nbconvert_exporter": "python",
   "pygments_lexer": "ipython3",
   "version": "3.6.8"
  }
 },
 "nbformat": 4,
 "nbformat_minor": 4
}
